{
 "cells": [
  {
   "cell_type": "code",
   "execution_count": 1,
   "metadata": {},
   "outputs": [],
   "source": [
    "import pandas as pd"
   ]
  },
  {
   "cell_type": "code",
   "execution_count": 2,
   "metadata": {},
   "outputs": [],
   "source": [
    "json_data = [\n",
    "    {\"app\": \"A\", \"bid_price\": 0.01, \"win\": 0, \"events\": 100000}, \n",
    "    {\"app\": \"A\", \"bid_price\": 0.01, \"win\": 1, \"events\": 0}, \n",
    "    {\"app\": \"A\", \"bid_price\": 0.1, \"win\": 0, \"events\": 7000}, \n",
    "    {\"app\": \"A\", \"bid_price\": 0.1, \"win\": 1, \"events\": 3000}, \n",
    "    {\"app\": \"A\", \"bid_price\": 0.2, \"win\": 0, \"events\": 8000000}, \n",
    "    {\"app\": \"A\", \"bid_price\": 0.2, \"win\": 1, \"events\": 2000000}, \n",
    "    {\"app\": \"A\", \"bid_price\": 0.4, \"win\": 0, \"events\": 700000}, \n",
    "    {\"app\": \"A\", \"bid_price\": 0.4, \"win\": 1, \"events\": 300000}, \n",
    "    {\"app\": \"A\", \"bid_price\": 0.5, \"win\": 0, \"events\": 80000}, \n",
    "    {\"app\": \"A\", \"bid_price\": 0.5, \"win\": 1, \"events\": 20000}, \n",
    "    {\"app\": \"A\", \"bid_price\": 0.75, \"win\": 0, \"events\": 7000}, \n",
    "    {\"app\": \"A\", \"bid_price\": 0.75, \"win\": 1, \"events\": 3000}, \n",
    "    {\"app\": \"A\", \"bid_price\": 1, \"win\": 0, \"events\": 400}, \n",
    "    {\"app\": \"A\", \"bid_price\": 1, \"win\": 1, \"events\": 600}, \n",
    "    {\"app\": \"A\", \"bid_price\": 2, \"win\": 0, \"events\": 30}, \n",
    "    {\"app\": \"A\", \"bid_price\": 2, \"win\": 1, \"events\": 70}, \n",
    "    {\"app\": \"A\", \"bid_price\": 5, \"win\": 0, \"events\": 2}, \n",
    "    {\"app\": \"A\", \"bid_price\": 5, \"win\": 1, \"events\": 8}, \n",
    "    {\"app\": \"A\", \"bid_price\": 9, \"win\": 0, \"events\": 0}, \n",
    "    {\"app\": \"A\", \"bid_price\": 9, \"win\": 1, \"events\": 1}\n",
    "]"
   ]
  },
  {
   "cell_type": "code",
   "execution_count": 3,
   "metadata": {},
   "outputs": [],
   "source": [
    "df = pd.DataFrame(json_data)\n",
    "prices = df['bid_price'].unique()"
   ]
  },
  {
   "cell_type": "code",
   "execution_count": 4,
   "metadata": {},
   "outputs": [
    {
     "name": "stdout",
     "output_type": "stream",
     "text": [
      "{0.01: 0.0, 0.1: 0.3, 0.2: 0.2, 0.4: 0.3, 0.5: 0.2, 0.75: 0.3, 1.0: 0.6, 2.0: 0.7, 5.0: 0.8, 9.0: 1.0}\n"
     ]
    }
   ],
   "source": [
    "win_probability_by_price = {}\n",
    "\n",
    "for price in prices:\n",
    "    won_bids  = [x for x in json_data if x['bid_price'] == price and x['win'] == 1][0]['events']\n",
    "    lost_bids = [x for x in json_data if x['bid_price'] == price and x['win'] == 0][0]['events']\n",
    "\n",
    "    win_probability = won_bids / (won_bids + lost_bids)\n",
    "    win_probability_by_price[price] = win_probability\n",
    "\n",
    "print(win_probability_by_price)"
   ]
  },
  {
   "cell_type": "code",
   "execution_count": 5,
   "metadata": {},
   "outputs": [
    {
     "name": "stdout",
     "output_type": "stream",
     "text": [
      "0.01    0.0\n",
      "0.1    0.12\n",
      "0.2    0.06\n",
      "0.4    0.029999999999999992\n",
      "0.5    0.0\n",
      "0.75    -0.075\n",
      "1.0    -0.3\n",
      "2.0    -1.0499999999999998\n",
      "5.0    -3.6\n",
      "9.0    -8.5\n"
     ]
    }
   ],
   "source": [
    "revenues = []\n",
    "for price in prices:\n",
    "    revenue = (0.5 - price) * win_probability_by_price[price]\n",
    "    revenues.append(revenue)\n",
    "    print(price, \"  \", revenue)"
   ]
  },
  {
   "cell_type": "code",
   "execution_count": 6,
   "metadata": {},
   "outputs": [
    {
     "data": {
      "text/plain": [
       "0.12"
      ]
     },
     "execution_count": 6,
     "metadata": {},
     "output_type": "execute_result"
    }
   ],
   "source": [
    "max(revenues)"
   ]
  }
 ],
 "metadata": {
  "kernelspec": {
   "display_name": "Python 3",
   "language": "python",
   "name": "python3"
  },
  "language_info": {
   "codemirror_mode": {
    "name": "ipython",
    "version": 3
   },
   "file_extension": ".py",
   "mimetype": "text/x-python",
   "name": "python",
   "nbconvert_exporter": "python",
   "pygments_lexer": "ipython3",
   "version": "3.9.13"
  }
 },
 "nbformat": 4,
 "nbformat_minor": 2
}
